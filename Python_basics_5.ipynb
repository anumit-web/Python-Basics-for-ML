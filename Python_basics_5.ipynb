{
  "cells": [
    {
      "cell_type": "markdown",
      "source": [
        "# Python Basics 2025"
      ],
      "metadata": {
        "id": "2lzCOMfvXNCd"
      }
    },
    {
      "cell_type": "markdown",
      "source": [
        "# Think Python"
      ],
      "metadata": {
        "id": "tWMdsvt3mFG9"
      }
    },
    {
      "cell_type": "markdown",
      "source": [
        "# Chapter 4. Functions and Interfaces"
      ],
      "metadata": {
        "id": "KxNGKfEPEl05"
      }
    },
    {
      "cell_type": "markdown",
      "source": [
        "---\n",
        "---\n",
        "---\n"
      ],
      "metadata": {
        "id": "rdMQBSuwsybO"
      }
    },
    {
      "cell_type": "code",
      "source": [
        "\n",
        "#\n"
      ],
      "metadata": {
        "id": "v3mePpFsW448"
      },
      "execution_count": 59,
      "outputs": []
    },
    {
      "cell_type": "markdown",
      "source": [
        "---\n",
        "---\n",
        "---\n"
      ],
      "metadata": {
        "id": "q4L4vr-5mVqo"
      }
    },
    {
      "cell_type": "code",
      "source": [
        "\n",
        "#\n",
        "print(\"Hello, World!\")"
      ],
      "metadata": {
        "id": "ZYLmvYYuiaZy",
        "colab": {
          "base_uri": "https://localhost:8080/"
        },
        "outputId": "aedcaedd-61be-4c61-ee94-41478949d003"
      },
      "execution_count": 60,
      "outputs": [
        {
          "output_type": "stream",
          "name": "stdout",
          "text": [
            "Hello, World!\n"
          ]
        }
      ]
    },
    {
      "cell_type": "markdown",
      "source": [
        "---\n",
        "---\n",
        "---\n"
      ],
      "metadata": {
        "id": "Xm3mK5IkwguJ"
      }
    },
    {
      "cell_type": "markdown",
      "source": [
        "# The jupyturtle Module"
      ],
      "metadata": {
        "id": "P03PIuAL_xt9"
      }
    },
    {
      "cell_type": "code",
      "source": [
        "# !pip install jupyturtle -q"
      ],
      "metadata": {
        "id": "4b6cNAf6AOCw"
      },
      "execution_count": 61,
      "outputs": []
    },
    {
      "cell_type": "code",
      "source": [
        "\n",
        "import jupyturtle"
      ],
      "metadata": {
        "id": "QFnFFNkd_4-E"
      },
      "execution_count": 62,
      "outputs": []
    },
    {
      "cell_type": "code",
      "source": [
        "\n",
        "jupyturtle.make_turtle()\n",
        "# jupyturtle.forward(100)"
      ],
      "metadata": {
        "colab": {
          "base_uri": "https://localhost:8080/",
          "height": 189
        },
        "id": "t062UGcHACPT",
        "outputId": "072c6281-b5c6-4965-8f4c-7057454cee6e"
      },
      "execution_count": 63,
      "outputs": [
        {
          "output_type": "display_data",
          "data": {
            "text/plain": [
              "<IPython.core.display.HTML object>"
            ],
            "text/html": [
              "<svg width=\"300\" height=\"150\" style=\"fill:none; stroke-linecap:round;\">\n",
              "    <rect width=\"100%\" height=\"100%\" fill=\"#F3F3F7\" />\n",
              "\n",
              "\n",
              "<path stroke=\"#663399\" stroke-width=\"2\" d=\"M 150,75\" />'\n",
              "\n",
              "<g transform=\"rotate(-90.0,150,75) translate(150, 75)\">\n",
              "    <circle stroke=\"#63A375\" stroke-width=\"2\" fill=\"transparent\" r=\"5.5\" cx=\"0\" cy=\"0\"/>\n",
              "    <polygon points=\"0,12 2,9 -2,9\" style=\"fill:#63A375;stroke:#63A375;stroke-width:2\"/>\n",
              "</g>\n",
              "\n",
              "</svg>"
            ]
          },
          "metadata": {}
        },
        {
          "output_type": "execute_result",
          "data": {
            "text/plain": [
              "<jupyturtle.jupyturtle.Turtle at 0x780aaee4a750>"
            ]
          },
          "metadata": {},
          "execution_count": 63
        }
      ]
    },
    {
      "cell_type": "code",
      "source": [
        "\n",
        "jupyturtle.forward(50)\n",
        "jupyturtle.left(90)\n",
        "jupyturtle.forward(50)"
      ],
      "metadata": {
        "id": "WJDSeB5RAC36",
        "colab": {
          "base_uri": "https://localhost:8080/",
          "height": 171
        },
        "outputId": "baef4acc-210e-4fa8-98da-1cd03475c89f"
      },
      "execution_count": 64,
      "outputs": [
        {
          "output_type": "display_data",
          "data": {
            "text/plain": [
              "<IPython.core.display.HTML object>"
            ],
            "text/html": [
              "<svg width=\"300\" height=\"150\" style=\"fill:none; stroke-linecap:round;\">\n",
              "    <rect width=\"100%\" height=\"100%\" fill=\"#F3F3F7\" />\n",
              "\n",
              "\n",
              "<path stroke=\"#663399\" stroke-width=\"2\" d=\"M 150,75 200,75 200,25\" />'\n",
              "\n",
              "<g transform=\"rotate(180.0,200.0,25.0) translate(200.0, 25.0)\">\n",
              "    <circle stroke=\"#63A375\" stroke-width=\"2\" fill=\"transparent\" r=\"5.5\" cx=\"0\" cy=\"0\"/>\n",
              "    <polygon points=\"0,12 2,9 -2,9\" style=\"fill:#63A375;stroke:#63A375;stroke-width:2\"/>\n",
              "</g>\n",
              "\n",
              "</svg>"
            ]
          },
          "metadata": {}
        }
      ]
    },
    {
      "cell_type": "markdown",
      "source": [
        "---\n",
        "---\n",
        "---\n"
      ],
      "metadata": {
        "id": "hF41QHG7wapn"
      }
    },
    {
      "cell_type": "markdown",
      "source": [
        "\n",
        "# Encapsulation and Generalization"
      ],
      "metadata": {
        "id": "s43IM63btNJ4"
      }
    },
    {
      "cell_type": "markdown",
      "source": [
        "Wrapping a piece of code up in a function is called encapsulation."
      ],
      "metadata": {
        "id": "y2yK416iCimO"
      }
    },
    {
      "cell_type": "code",
      "source": [
        "\n",
        "def square(length):\n",
        "    for i in range(4):\n",
        "        jupyturtle.forward(length)\n",
        "        jupyturtle.left(90)\n",
        "\n",
        "jupyturtle.make_turtle()\n",
        "square(50)"
      ],
      "metadata": {
        "id": "h16UpiZHIoeF",
        "colab": {
          "base_uri": "https://localhost:8080/",
          "height": 171
        },
        "outputId": "601c0756-f6c4-4b51-845b-27a543738ab7"
      },
      "execution_count": 65,
      "outputs": [
        {
          "output_type": "display_data",
          "data": {
            "text/plain": [
              "<IPython.core.display.HTML object>"
            ],
            "text/html": [
              "<svg width=\"300\" height=\"150\" style=\"fill:none; stroke-linecap:round;\">\n",
              "    <rect width=\"100%\" height=\"100%\" fill=\"#F3F3F7\" />\n",
              "\n",
              "\n",
              "<path stroke=\"#663399\" stroke-width=\"2\" d=\"M 150,75 200,75 200,25 150,25 150,75\" />'\n",
              "\n",
              "<g transform=\"rotate(-90.0,150.0,75.0) translate(150.0, 75.0)\">\n",
              "    <circle stroke=\"#63A375\" stroke-width=\"2\" fill=\"transparent\" r=\"5.5\" cx=\"0\" cy=\"0\"/>\n",
              "    <polygon points=\"0,12 2,9 -2,9\" style=\"fill:#63A375;stroke:#63A375;stroke-width:2\"/>\n",
              "</g>\n",
              "\n",
              "</svg>"
            ]
          },
          "metadata": {}
        }
      ]
    },
    {
      "cell_type": "code",
      "source": [
        "\n",
        "square(25)"
      ],
      "metadata": {
        "colab": {
          "base_uri": "https://localhost:8080/",
          "height": 171
        },
        "id": "Q47HcYj0DTPK",
        "outputId": "326bc187-b094-4c42-c74e-31f64628d110"
      },
      "execution_count": 66,
      "outputs": [
        {
          "output_type": "display_data",
          "data": {
            "text/plain": [
              "<IPython.core.display.HTML object>"
            ],
            "text/html": [
              "<svg width=\"300\" height=\"150\" style=\"fill:none; stroke-linecap:round;\">\n",
              "    <rect width=\"100%\" height=\"100%\" fill=\"#F3F3F7\" />\n",
              "\n",
              "\n",
              "<path stroke=\"#663399\" stroke-width=\"2\" d=\"M 150,75 200,75 200,25 150,25 150,75 175,75 175,50 150,50 150,75\" />'\n",
              "\n",
              "<g transform=\"rotate(-90.0,150.0,75.0) translate(150.0, 75.0)\">\n",
              "    <circle stroke=\"#63A375\" stroke-width=\"2\" fill=\"transparent\" r=\"5.5\" cx=\"0\" cy=\"0\"/>\n",
              "    <polygon points=\"0,12 2,9 -2,9\" style=\"fill:#63A375;stroke:#63A375;stroke-width:2\"/>\n",
              "</g>\n",
              "\n",
              "</svg>"
            ]
          },
          "metadata": {}
        }
      ]
    },
    {
      "cell_type": "markdown",
      "source": [
        "Adding a parameter to a function is called generalization because it makes the function more general"
      ],
      "metadata": {
        "id": "S77ZiMAsDif8"
      }
    },
    {
      "cell_type": "code",
      "source": [
        "\n",
        "def polygon(length, sides):\n",
        "    angle = 360 / sides\n",
        "    for i in range(sides):\n",
        "        jupyturtle.forward(length)\n",
        "        jupyturtle.left(angle)\n",
        "\n",
        "\n",
        "jupyturtle.make_turtle()\n",
        "polygon(50, 7)"
      ],
      "metadata": {
        "colab": {
          "base_uri": "https://localhost:8080/",
          "height": 171
        },
        "id": "UtedHu-ZDk07",
        "outputId": "46d92295-51a6-44d7-b094-6c4fa3194bca"
      },
      "execution_count": 67,
      "outputs": [
        {
          "output_type": "display_data",
          "data": {
            "text/plain": [
              "<IPython.core.display.HTML object>"
            ],
            "text/html": [
              "<svg width=\"300\" height=\"150\" style=\"fill:none; stroke-linecap:round;\">\n",
              "    <rect width=\"100%\" height=\"100%\" fill=\"#F3F3F7\" />\n",
              "\n",
              "\n",
              "<path stroke=\"#663399\" stroke-width=\"2\" d=\"M 150,75 200,75 231.2,35.9 220,-12.8 175,-34.5 130,-12.8 118.8,35.9 150,75\" />'\n",
              "\n",
              "<g transform=\"rotate(270.0,150.0,75.0) translate(150.0, 75.0)\">\n",
              "    <circle stroke=\"#63A375\" stroke-width=\"2\" fill=\"transparent\" r=\"5.5\" cx=\"0\" cy=\"0\"/>\n",
              "    <polygon points=\"0,12 2,9 -2,9\" style=\"fill:#63A375;stroke:#63A375;stroke-width:2\"/>\n",
              "</g>\n",
              "\n",
              "</svg>"
            ]
          },
          "metadata": {}
        }
      ]
    },
    {
      "cell_type": "markdown",
      "source": [
        "---\n",
        "---\n",
        "---\n"
      ],
      "metadata": {
        "id": "0bJw4vaazoSf"
      }
    },
    {
      "cell_type": "markdown",
      "source": [
        "# Docstrings"
      ],
      "metadata": {
        "id": "YgqyhaQg0pK6"
      }
    },
    {
      "cell_type": "code",
      "source": [
        "\n",
        "def print_test():\n",
        "    \"\"\"\n",
        "    Print a string test\n",
        "    \"\"\"\n",
        "    print(\"test string\")\n",
        "\n",
        "print_test()"
      ],
      "metadata": {
        "colab": {
          "base_uri": "https://localhost:8080/"
        },
        "id": "IsYhPS_7FVsS",
        "outputId": "94bfdc55-4b70-45c6-b63c-d0e0a877cce1"
      },
      "execution_count": 68,
      "outputs": [
        {
          "output_type": "stream",
          "name": "stdout",
          "text": [
            "test string\n"
          ]
        }
      ]
    },
    {
      "cell_type": "markdown",
      "source": [
        "---\n",
        "---\n",
        "---\n"
      ],
      "metadata": {
        "id": "fYpGBAl62pdc"
      }
    },
    {
      "cell_type": "markdown",
      "source": [
        "# Values and Types"
      ],
      "metadata": {
        "id": "mM5Jar3c24e-"
      }
    }
  ],
  "metadata": {
    "kernelspec": {
      "display_name": "Python 3",
      "language": "python",
      "name": "python3"
    },
    "language_info": {
      "codemirror_mode": {
        "name": "ipython",
        "version": 3
      },
      "file_extension": ".py",
      "mimetype": "text/x-python",
      "name": "python",
      "nbconvert_exporter": "python",
      "pygments_lexer": "ipython3",
      "version": "3.7.6"
    },
    "toc": {
      "base_numbering": 1,
      "nav_menu": {},
      "number_sections": false,
      "sideBar": true,
      "skip_h1_title": false,
      "title_cell": "Table of Contents",
      "title_sidebar": "Contents",
      "toc_cell": false,
      "toc_position": {},
      "toc_section_display": true,
      "toc_window_display": false
    },
    "colab": {
      "provenance": []
    }
  },
  "nbformat": 4,
  "nbformat_minor": 0
}