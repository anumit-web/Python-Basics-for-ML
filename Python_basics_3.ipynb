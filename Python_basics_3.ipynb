{
  "cells": [
    {
      "cell_type": "markdown",
      "source": [
        "# Python Basics 2025"
      ],
      "metadata": {
        "id": "2lzCOMfvXNCd"
      }
    },
    {
      "cell_type": "markdown",
      "source": [
        "# Think Python"
      ],
      "metadata": {
        "id": "tWMdsvt3mFG9"
      }
    },
    {
      "cell_type": "markdown",
      "source": [
        "# Chapter 2. Variables and Statements"
      ],
      "metadata": {
        "id": "hNcSu9zAmOih"
      }
    },
    {
      "cell_type": "code",
      "source": [
        "\n",
        "#\n"
      ],
      "metadata": {
        "id": "v3mePpFsW448"
      },
      "execution_count": 5,
      "outputs": []
    },
    {
      "cell_type": "markdown",
      "metadata": {
        "id": "o-WdYE2jWWo6"
      },
      "source": [
        "## More features with Jupyter notebooks\n",
        "\n",
        "There are many other features of Jupyter notebooks to take advantage of,\n",
        "such as automatically generating Binder links for notebooks or connecting your content with a kernel in the cloud.\n",
        "For more information browse the pages in this site, and [](content:code-outputs) in particular."
      ]
    },
    {
      "cell_type": "markdown",
      "source": [
        "---\n",
        "---\n",
        "---\n"
      ],
      "metadata": {
        "id": "q4L4vr-5mVqo"
      }
    },
    {
      "cell_type": "code",
      "source": [
        "\n",
        "#\n",
        "print(\"Hello, World!\")"
      ],
      "metadata": {
        "colab": {
          "base_uri": "https://localhost:8080/"
        },
        "id": "ZYLmvYYuiaZy",
        "outputId": "72ca54f0-d426-4224-c276-870efbbe3d87"
      },
      "execution_count": 6,
      "outputs": [
        {
          "output_type": "stream",
          "name": "stdout",
          "text": [
            "Hello, World!\n"
          ]
        }
      ]
    },
    {
      "cell_type": "markdown",
      "source": [
        "---\n",
        "---\n",
        "---\n"
      ],
      "metadata": {
        "id": "Xm3mK5IkwguJ"
      }
    },
    {
      "cell_type": "code",
      "source": [
        "\n",
        "#\n",
        "n = 17\n",
        "pi = 3.14159265358979\n",
        "print(n)\n",
        "print(pi)"
      ],
      "metadata": {
        "colab": {
          "base_uri": "https://localhost:8080/"
        },
        "id": "fp7Qi9j_nCmo",
        "outputId": "ae0b0ee6-fa5e-4db2-c6a4-63b643edb8cf"
      },
      "execution_count": 7,
      "outputs": [
        {
          "output_type": "stream",
          "name": "stdout",
          "text": [
            "17\n",
            "3.14159265358979\n"
          ]
        }
      ]
    },
    {
      "cell_type": "code",
      "source": [
        "\n",
        "message = \"I have a cunning plan, as cunning as a fox who has just been appointed Professor of Cunning at Oxford University.\"\n",
        "print(message)"
      ],
      "metadata": {
        "colab": {
          "base_uri": "https://localhost:8080/"
        },
        "id": "9eEvjdtJnlYb",
        "outputId": "968c073a-fa60-46e0-bb81-78613957c40c"
      },
      "execution_count": 8,
      "outputs": [
        {
          "output_type": "stream",
          "name": "stdout",
          "text": [
            "I have a cunning plan, as cunning as a fox who has just been appointed Professor of Cunning at Oxford University.\n"
          ]
        }
      ]
    },
    {
      "cell_type": "markdown",
      "source": [
        "---\n",
        "---\n",
        "---\n"
      ],
      "metadata": {
        "id": "hF41QHG7wapn"
      }
    },
    {
      "cell_type": "markdown",
      "source": [],
      "metadata": {
        "id": "O7Bvs2x7mDFA"
      }
    },
    {
      "cell_type": "markdown",
      "source": [
        "\n",
        "# Arithmetic Function"
      ],
      "metadata": {
        "id": "s43IM63btNJ4"
      }
    },
    {
      "cell_type": "markdown",
      "source": [
        "---\n",
        "---\n",
        "---\n"
      ],
      "metadata": {
        "id": "0bJw4vaazoSf"
      }
    },
    {
      "cell_type": "markdown",
      "source": [
        "#String"
      ],
      "metadata": {
        "id": "YgqyhaQg0pK6"
      }
    },
    {
      "cell_type": "markdown",
      "source": [
        "---\n",
        "---\n",
        "---\n"
      ],
      "metadata": {
        "id": "fYpGBAl62pdc"
      }
    },
    {
      "cell_type": "markdown",
      "source": [
        "# Values and Types"
      ],
      "metadata": {
        "id": "mM5Jar3c24e-"
      }
    }
  ],
  "metadata": {
    "kernelspec": {
      "display_name": "Python 3",
      "language": "python",
      "name": "python3"
    },
    "language_info": {
      "codemirror_mode": {
        "name": "ipython",
        "version": 3
      },
      "file_extension": ".py",
      "mimetype": "text/x-python",
      "name": "python",
      "nbconvert_exporter": "python",
      "pygments_lexer": "ipython3",
      "version": "3.7.6"
    },
    "toc": {
      "base_numbering": 1,
      "nav_menu": {},
      "number_sections": false,
      "sideBar": true,
      "skip_h1_title": false,
      "title_cell": "Table of Contents",
      "title_sidebar": "Contents",
      "toc_cell": false,
      "toc_position": {},
      "toc_section_display": true,
      "toc_window_display": false
    },
    "colab": {
      "provenance": []
    }
  },
  "nbformat": 4,
  "nbformat_minor": 0
}