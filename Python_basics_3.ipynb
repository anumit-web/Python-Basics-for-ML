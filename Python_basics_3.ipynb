{
  "cells": [
    {
      "cell_type": "markdown",
      "source": [
        "# Python Basics 2025"
      ],
      "metadata": {
        "id": "2lzCOMfvXNCd"
      }
    },
    {
      "cell_type": "code",
      "source": [
        "\n",
        "#\n"
      ],
      "metadata": {
        "id": "v3mePpFsW448"
      },
      "execution_count": null,
      "outputs": []
    },
    {
      "cell_type": "markdown",
      "metadata": {
        "id": "o-WdYE2jWWo6"
      },
      "source": [
        "## More features with Jupyter notebooks\n",
        "\n",
        "There are many other features of Jupyter notebooks to take advantage of,\n",
        "such as automatically generating Binder links for notebooks or connecting your content with a kernel in the cloud.\n",
        "For more information browse the pages in this site, and [](content:code-outputs) in particular."
      ]
    },
    {
      "cell_type": "code",
      "source": [
        "\n",
        "#\n",
        "print(\"Hello, World!\")"
      ],
      "metadata": {
        "colab": {
          "base_uri": "https://localhost:8080/"
        },
        "id": "ZYLmvYYuiaZy",
        "outputId": "77d37ee6-c515-4390-b13b-73a0ba213f84"
      },
      "execution_count": null,
      "outputs": [
        {
          "output_type": "stream",
          "name": "stdout",
          "text": [
            "Hello, World!\n"
          ]
        }
      ]
    },
    {
      "cell_type": "markdown",
      "source": [
        "---\n",
        "---\n",
        "---\n"
      ],
      "metadata": {
        "id": "Xm3mK5IkwguJ"
      }
    },
    {
      "cell_type": "code",
      "source": [
        "\n",
        "print(\"Add\")\n",
        "print(25+19)\n",
        "print(\"Substract\")\n",
        "print(89-28)"
      ],
      "metadata": {
        "id": "TOkXuaPLlkqF",
        "colab": {
          "base_uri": "https://localhost:8080/"
        },
        "outputId": "3521e67d-248e-4d6f-8c1e-3b97ea6e187a"
      },
      "execution_count": null,
      "outputs": [
        {
          "output_type": "stream",
          "name": "stdout",
          "text": [
            "Add\n",
            "44\n",
            "Substract\n",
            "61\n"
          ]
        }
      ]
    },
    {
      "cell_type": "code",
      "source": [
        "\n",
        "print(\"Multiply\")\n",
        "print(8*3)\n",
        "print(\"Divide\")\n",
        "print(89//2)   # returns floor integer"
      ],
      "metadata": {
        "colab": {
          "base_uri": "https://localhost:8080/"
        },
        "id": "An8N_qE7ng1K",
        "outputId": "e8c0ffa3-c98f-46ca-cd27-2dea4c54a1d3"
      },
      "execution_count": null,
      "outputs": [
        {
          "output_type": "stream",
          "name": "stdout",
          "text": [
            "Multiply\n",
            "24\n",
            "Divide\n",
            "44\n"
          ]
        }
      ]
    },
    {
      "cell_type": "code",
      "source": [
        "import math\n",
        "\n",
        "print(\"Square and square root\")\n",
        "print(4**2)\n",
        "\n",
        "number = 25\n",
        "square_root = math.sqrt(number)\n",
        "print(square_root)"
      ],
      "metadata": {
        "colab": {
          "base_uri": "https://localhost:8080/"
        },
        "id": "f3_ClLE7pje1",
        "outputId": "8209fd81-5b86-4eca-c1bf-d70bc9098b04"
      },
      "execution_count": null,
      "outputs": [
        {
          "output_type": "stream",
          "name": "stdout",
          "text": [
            "Square and square root\n",
            "16\n",
            "5.0\n"
          ]
        }
      ]
    },
    {
      "cell_type": "markdown",
      "source": [
        "---\n",
        "---\n",
        "---\n"
      ],
      "metadata": {
        "id": "hF41QHG7wapn"
      }
    },
    {
      "cell_type": "markdown",
      "source": [
        "\n",
        "# Arithmetic Function"
      ],
      "metadata": {
        "id": "s43IM63btNJ4"
      }
    },
    {
      "cell_type": "code",
      "source": [
        "\n",
        "#Round\n",
        "print(\"Round\")\n",
        "print(round(9.7))"
      ],
      "metadata": {
        "id": "7nudJ1_XtTjm",
        "colab": {
          "base_uri": "https://localhost:8080/"
        },
        "outputId": "75e1848e-385e-47f7-a099-3f09f070fff7"
      },
      "execution_count": null,
      "outputs": [
        {
          "output_type": "stream",
          "name": "stdout",
          "text": [
            "Round\n",
            "10\n"
          ]
        }
      ]
    },
    {
      "cell_type": "code",
      "source": [
        "\n",
        "#Abs\n",
        "print(\"Abs\")\n",
        "print(abs(-4))\n",
        "print(abs(-8.782))"
      ],
      "metadata": {
        "colab": {
          "base_uri": "https://localhost:8080/"
        },
        "id": "SJdmzdyQyvTG",
        "outputId": "ff7c351f-2060-4ddb-eace-75719d093f5b"
      },
      "execution_count": null,
      "outputs": [
        {
          "output_type": "stream",
          "name": "stdout",
          "text": [
            "Abs\n",
            "4\n",
            "8.782\n"
          ]
        }
      ]
    },
    {
      "cell_type": "code",
      "source": [
        "\n",
        "print(\"String\")"
      ],
      "metadata": {
        "colab": {
          "base_uri": "https://localhost:8080/"
        },
        "id": "q_PpojIKzsp0",
        "outputId": "8d1295da-d9e0-41c1-f84a-7dd4d5b6a151"
      },
      "execution_count": null,
      "outputs": [
        {
          "output_type": "stream",
          "name": "stdout",
          "text": [
            "String\n"
          ]
        }
      ]
    },
    {
      "cell_type": "markdown",
      "source": [
        "---\n",
        "---\n",
        "---\n"
      ],
      "metadata": {
        "id": "0bJw4vaazoSf"
      }
    },
    {
      "cell_type": "markdown",
      "source": [
        "#String"
      ],
      "metadata": {
        "id": "YgqyhaQg0pK6"
      }
    },
    {
      "cell_type": "code",
      "source": [
        "\n",
        "print(\"Mum's the word. To be precise, dumbs the word. \")"
      ],
      "metadata": {
        "colab": {
          "base_uri": "https://localhost:8080/"
        },
        "id": "vHEdcnNy0sjZ",
        "outputId": "63411f3e-5789-4ddc-98f5-8509c2a1cd87"
      },
      "execution_count": null,
      "outputs": [
        {
          "output_type": "stream",
          "name": "stdout",
          "text": [
            "Mum's the word. To be precise, dumbs the word. \n"
          ]
        }
      ]
    },
    {
      "cell_type": "code",
      "source": [
        "\n",
        "quote1 = \"Ten thousand\" + \" \" + \"thundering typhoons\"\n",
        "print(quote1)"
      ],
      "metadata": {
        "colab": {
          "base_uri": "https://localhost:8080/"
        },
        "id": "HChpYGq30_Jp",
        "outputId": "1ba6d98f-4eb7-4c49-ebc7-22922aa2a505"
      },
      "execution_count": null,
      "outputs": [
        {
          "output_type": "stream",
          "name": "stdout",
          "text": [
            "Ten thousand thundering typhoons\n"
          ]
        }
      ]
    },
    {
      "cell_type": "code",
      "source": [
        "\n",
        "print('Captain Haddock, ' * 4)"
      ],
      "metadata": {
        "colab": {
          "base_uri": "https://localhost:8080/"
        },
        "id": "8H4sUhgx154g",
        "outputId": "0b799f67-c315-4942-c88e-efc3b75f4a2a"
      },
      "execution_count": null,
      "outputs": [
        {
          "output_type": "stream",
          "name": "stdout",
          "text": [
            "Captain Haddock, Captain Haddock, Captain Haddock, Captain Haddock, \n"
          ]
        }
      ]
    },
    {
      "cell_type": "code",
      "source": [
        "\n",
        "len('Captain Haddock')"
      ],
      "metadata": {
        "colab": {
          "base_uri": "https://localhost:8080/"
        },
        "id": "1M-8V0-f2Kjp",
        "outputId": "482d220d-7d03-4a2b-e827-7a8ec1644331"
      },
      "execution_count": null,
      "outputs": [
        {
          "output_type": "execute_result",
          "data": {
            "text/plain": [
              "15"
            ]
          },
          "metadata": {},
          "execution_count": 155
        }
      ]
    },
    {
      "cell_type": "markdown",
      "source": [
        "---\n",
        "---\n",
        "---\n"
      ],
      "metadata": {
        "id": "fYpGBAl62pdc"
      }
    },
    {
      "cell_type": "markdown",
      "source": [
        "# Values and Types"
      ],
      "metadata": {
        "id": "mM5Jar3c24e-"
      }
    },
    {
      "cell_type": "code",
      "source": [
        "\n",
        "print(type(2))\n",
        "print(type(3.8))\n",
        "print(type(\"Doctor Simons? This is Thomson\"))"
      ],
      "metadata": {
        "colab": {
          "base_uri": "https://localhost:8080/"
        },
        "id": "ZR_Wva-m3H1X",
        "outputId": "5abf76cc-c5bf-49b1-e5f8-744259e21db5"
      },
      "execution_count": null,
      "outputs": [
        {
          "output_type": "stream",
          "name": "stdout",
          "text": [
            "<class 'int'>\n",
            "<class 'float'>\n",
            "<class 'str'>\n"
          ]
        }
      ]
    },
    {
      "cell_type": "code",
      "source": [
        "\n",
        "x = int(42.8)\n",
        "print(x)\n",
        "y = float(50)\n",
        "print(y)"
      ],
      "metadata": {
        "colab": {
          "base_uri": "https://localhost:8080/"
        },
        "id": "NqtNrzc84OnD",
        "outputId": "6fcc2f0b-44c3-4804-db11-55937968c6f3"
      },
      "execution_count": null,
      "outputs": [
        {
          "output_type": "stream",
          "name": "stdout",
          "text": [
            "42\n",
            "50.0\n"
          ]
        }
      ]
    }
  ],
  "metadata": {
    "kernelspec": {
      "display_name": "Python 3",
      "language": "python",
      "name": "python3"
    },
    "language_info": {
      "codemirror_mode": {
        "name": "ipython",
        "version": 3
      },
      "file_extension": ".py",
      "mimetype": "text/x-python",
      "name": "python",
      "nbconvert_exporter": "python",
      "pygments_lexer": "ipython3",
      "version": "3.7.6"
    },
    "toc": {
      "base_numbering": 1,
      "nav_menu": {},
      "number_sections": false,
      "sideBar": true,
      "skip_h1_title": false,
      "title_cell": "Table of Contents",
      "title_sidebar": "Contents",
      "toc_cell": false,
      "toc_position": {},
      "toc_section_display": true,
      "toc_window_display": false
    },
    "colab": {
      "provenance": []
    }
  },
  "nbformat": 4,
  "nbformat_minor": 0
}