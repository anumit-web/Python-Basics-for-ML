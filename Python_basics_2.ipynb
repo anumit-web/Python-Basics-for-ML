{
  "cells": [
    {
      "cell_type": "markdown",
      "source": [
        "# Python Basics 2025"
      ],
      "metadata": {
        "id": "2lzCOMfvXNCd"
      }
    },
    {
      "cell_type": "code",
      "source": [
        "\n",
        "#\n"
      ],
      "metadata": {
        "id": "v3mePpFsW448"
      },
      "execution_count": null,
      "outputs": []
    },
    {
      "cell_type": "markdown",
      "metadata": {
        "id": "o-WdYE2jWWo6"
      },
      "source": [
        "## More features with Jupyter notebooks\n",
        "\n",
        "There are many other features of Jupyter notebooks to take advantage of,\n",
        "such as automatically generating Binder links for notebooks or connecting your content with a kernel in the cloud.\n",
        "For more information browse the pages in this site, and [](content:code-outputs) in particular."
      ]
    },
    {
      "cell_type": "code",
      "source": [
        "\n",
        "#\n",
        "print(\"Hello, World!\")"
      ],
      "metadata": {
        "colab": {
          "base_uri": "https://localhost:8080/"
        },
        "id": "ZYLmvYYuiaZy",
        "outputId": "50d339e5-6b2f-497a-edd6-e1fae77da081"
      },
      "execution_count": null,
      "outputs": [
        {
          "output_type": "stream",
          "name": "stdout",
          "text": [
            "Hello, World!\n"
          ]
        }
      ]
    },
    {
      "cell_type": "markdown",
      "source": [
        "---\n",
        "---\n",
        "---\n"
      ],
      "metadata": {
        "id": "Xm3mK5IkwguJ"
      }
    },
    {
      "cell_type": "code",
      "source": [
        "\n",
        "print(\"Add\")\n",
        "print(25+19)\n",
        "print(\"Substract\")\n",
        "print(89-28)"
      ],
      "metadata": {
        "id": "TOkXuaPLlkqF",
        "colab": {
          "base_uri": "https://localhost:8080/"
        },
        "outputId": "13ebfe71-39a2-4e50-bd27-4a33602d9d1d"
      },
      "execution_count": null,
      "outputs": [
        {
          "output_type": "stream",
          "name": "stdout",
          "text": [
            "Add\n",
            "44\n",
            "Substract\n",
            "61\n"
          ]
        }
      ]
    },
    {
      "cell_type": "code",
      "source": [
        "\n",
        "print(\"Multiply\")\n",
        "print(8*3)\n",
        "print(\"Divide\")\n",
        "print(89//2)   # returns floor integer"
      ],
      "metadata": {
        "colab": {
          "base_uri": "https://localhost:8080/"
        },
        "id": "An8N_qE7ng1K",
        "outputId": "bbc0a8b7-59ea-4b0d-ffe6-28eab4ce5555"
      },
      "execution_count": null,
      "outputs": [
        {
          "output_type": "stream",
          "name": "stdout",
          "text": [
            "Multiply\n",
            "24\n",
            "Divide\n",
            "44\n"
          ]
        }
      ]
    },
    {
      "cell_type": "code",
      "source": [
        "import math\n",
        "\n",
        "print(\"Square and square root\")\n",
        "print(4**2)\n",
        "\n",
        "number = 25\n",
        "square_root = math.sqrt(number)\n",
        "print(square_root)"
      ],
      "metadata": {
        "colab": {
          "base_uri": "https://localhost:8080/"
        },
        "id": "f3_ClLE7pje1",
        "outputId": "f7eb657d-2508-4ea9-9e44-c206294d6a12"
      },
      "execution_count": null,
      "outputs": [
        {
          "output_type": "stream",
          "name": "stdout",
          "text": [
            "Square and square root\n",
            "16\n",
            "5.0\n"
          ]
        }
      ]
    },
    {
      "cell_type": "markdown",
      "source": [
        "---\n",
        "---\n",
        "---\n"
      ],
      "metadata": {
        "id": "hF41QHG7wapn"
      }
    },
    {
      "cell_type": "markdown",
      "source": [
        "\n",
        "# Arithmetic Function"
      ],
      "metadata": {
        "id": "s43IM63btNJ4"
      }
    },
    {
      "cell_type": "code",
      "source": [
        "\n",
        "#Round\n",
        "print(\"Round\")\n",
        "print(round(9.7))"
      ],
      "metadata": {
        "id": "7nudJ1_XtTjm"
      },
      "execution_count": null,
      "outputs": []
    }
  ],
  "metadata": {
    "kernelspec": {
      "display_name": "Python 3",
      "language": "python",
      "name": "python3"
    },
    "language_info": {
      "codemirror_mode": {
        "name": "ipython",
        "version": 3
      },
      "file_extension": ".py",
      "mimetype": "text/x-python",
      "name": "python",
      "nbconvert_exporter": "python",
      "pygments_lexer": "ipython3",
      "version": "3.7.6"
    },
    "toc": {
      "base_numbering": 1,
      "nav_menu": {},
      "number_sections": false,
      "sideBar": true,
      "skip_h1_title": false,
      "title_cell": "Table of Contents",
      "title_sidebar": "Contents",
      "toc_cell": false,
      "toc_position": {},
      "toc_section_display": true,
      "toc_window_display": false
    },
    "colab": {
      "provenance": []
    }
  },
  "nbformat": 4,
  "nbformat_minor": 0
}