{
  "cells": [
    {
      "cell_type": "markdown",
      "source": [
        "# Python Basics 2025"
      ],
      "metadata": {
        "id": "2lzCOMfvXNCd"
      }
    },
    {
      "cell_type": "markdown",
      "source": [
        "# Think Python"
      ],
      "metadata": {
        "id": "tWMdsvt3mFG9"
      }
    },
    {
      "cell_type": "markdown",
      "source": [
        "# Chapter 3. Functions"
      ],
      "metadata": {
        "id": "KxNGKfEPEl05"
      }
    },
    {
      "cell_type": "markdown",
      "source": [
        "---\n",
        "---\n",
        "---\n"
      ],
      "metadata": {
        "id": "rdMQBSuwsybO"
      }
    },
    {
      "cell_type": "code",
      "source": [
        "\n",
        "#\n"
      ],
      "metadata": {
        "id": "v3mePpFsW448"
      },
      "execution_count": null,
      "outputs": []
    },
    {
      "cell_type": "markdown",
      "source": [
        "---\n",
        "---\n",
        "---\n"
      ],
      "metadata": {
        "id": "q4L4vr-5mVqo"
      }
    },
    {
      "cell_type": "code",
      "source": [
        "\n",
        "#\n",
        "print(\"Hello, World!\")"
      ],
      "metadata": {
        "id": "ZYLmvYYuiaZy"
      },
      "execution_count": null,
      "outputs": []
    },
    {
      "cell_type": "markdown",
      "source": [
        "---\n",
        "---\n",
        "---\n"
      ],
      "metadata": {
        "id": "Xm3mK5IkwguJ"
      }
    },
    {
      "cell_type": "code",
      "source": [
        "\n",
        "#\n",
        "def print_hello():\n",
        "    print(\"Hello World!\")\n",
        "\n",
        "print_hello()"
      ],
      "metadata": {
        "id": "61I2EABtFCad"
      },
      "execution_count": null,
      "outputs": []
    },
    {
      "cell_type": "code",
      "source": [
        "\n",
        "def print_photocopy(cars):\n",
        "    print(cars)\n",
        "    print(cars)\n",
        "\n",
        "print_photocopy(\"BMW\")"
      ],
      "metadata": {
        "id": "sclquNoIHFOO"
      },
      "execution_count": null,
      "outputs": []
    },
    {
      "cell_type": "code",
      "source": [
        "\n",
        "def print_tree(treename, count):\n",
        "    print(treename)\n",
        "    print(count)\n",
        "\n",
        "\n",
        "print_tree(\"Pine\", 9)\n"
      ],
      "metadata": {
        "id": "G3-ZNLI7Hoge"
      },
      "execution_count": null,
      "outputs": []
    },
    {
      "cell_type": "markdown",
      "source": [
        "---\n",
        "---\n",
        "---\n"
      ],
      "metadata": {
        "id": "hF41QHG7wapn"
      }
    },
    {
      "cell_type": "markdown",
      "source": [
        "\n",
        "# Repetition"
      ],
      "metadata": {
        "id": "s43IM63btNJ4"
      }
    },
    {
      "cell_type": "code",
      "source": [
        "\n",
        "for i in range(5):\n",
        "    print(i)"
      ],
      "metadata": {
        "id": "RvC7ApJ1IoBp"
      },
      "execution_count": null,
      "outputs": []
    },
    {
      "cell_type": "code",
      "source": [],
      "metadata": {
        "id": "h16UpiZHIoeF"
      },
      "execution_count": null,
      "outputs": []
    },
    {
      "cell_type": "markdown",
      "source": [
        "---\n",
        "---\n",
        "---\n"
      ],
      "metadata": {
        "id": "0bJw4vaazoSf"
      }
    },
    {
      "cell_type": "markdown",
      "source": [
        "#String"
      ],
      "metadata": {
        "id": "YgqyhaQg0pK6"
      }
    },
    {
      "cell_type": "markdown",
      "source": [
        "---\n",
        "---\n",
        "---\n"
      ],
      "metadata": {
        "id": "fYpGBAl62pdc"
      }
    },
    {
      "cell_type": "markdown",
      "source": [
        "# Values and Types"
      ],
      "metadata": {
        "id": "mM5Jar3c24e-"
      }
    }
  ],
  "metadata": {
    "kernelspec": {
      "display_name": "Python 3",
      "language": "python",
      "name": "python3"
    },
    "language_info": {
      "codemirror_mode": {
        "name": "ipython",
        "version": 3
      },
      "file_extension": ".py",
      "mimetype": "text/x-python",
      "name": "python",
      "nbconvert_exporter": "python",
      "pygments_lexer": "ipython3",
      "version": "3.7.6"
    },
    "toc": {
      "base_numbering": 1,
      "nav_menu": {},
      "number_sections": false,
      "sideBar": true,
      "skip_h1_title": false,
      "title_cell": "Table of Contents",
      "title_sidebar": "Contents",
      "toc_cell": false,
      "toc_position": {},
      "toc_section_display": true,
      "toc_window_display": false
    },
    "colab": {
      "provenance": []
    }
  },
  "nbformat": 4,
  "nbformat_minor": 0
}